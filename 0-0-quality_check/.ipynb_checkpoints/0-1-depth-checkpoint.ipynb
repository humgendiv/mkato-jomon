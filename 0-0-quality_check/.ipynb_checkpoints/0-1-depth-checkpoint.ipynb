{
 "cells": [
  {
   "cell_type": "code",
   "execution_count": 4,
   "metadata": {},
   "outputs": [],
   "source": [
    "# Import required libraries again due to environment reset\n",
    "import os\n",
    "import zipfile\n",
    "import pandas as pd\n",
    "import numpy as np\n",
    "\n",
    "# Specify the paths for the zip file and the extraction directory\n",
    "zip_path = '/home1/mkato/hdd_data/data/0-0-raw_vcf/stats/stats.zip'\n",
    "unzip_dir = '/home1/mkato/hdd_data/data/0-0-raw_vcf/stats/unzip'"
   ]
  },
  {
   "cell_type": "code",
   "execution_count": 5,
   "metadata": {},
   "outputs": [],
   "source": [
    "# Function to parse tables\n",
    "def parse_table_new(lines, header_format):\n",
    "    table = []\n",
    "    for line in lines:\n",
    "        if line.startswith(\"#\"):\n",
    "            header = line[1:].split(\"\\t\")  # Remove \"#\" and split by tabs\n",
    "            header = [h.split(\" \")[0] for h in header]  # Keep only the first word of each header element\n",
    "        else:\n",
    "            values = line.split(\"\\t\")\n",
    "            row = dict(zip(header, values))\n",
    "            table.append(row)\n",
    "    return table"
   ]
  },
  {
   "cell_type": "code",
   "execution_count": 6,
   "metadata": {},
   "outputs": [],
   "source": [
    "# Column renaming dictionaries\n",
    "qual_columns = {\n",
    "    '[2]id': 'id',\n",
    "    '[3]Quality': 'Quality',\n",
    "    '[4]number': 'number_of_variants',\n",
    "    '[5]number': 'number_of_transitions',\n",
    "    '[6]number': 'number_of_transversions',\n",
    "    '[7]number': 'number_of_indels'\n",
    "}\n",
    "\n",
    "dp_columns = {\n",
    "    '[2]id': 'id',\n",
    "    '[3]bin': 'bin',\n",
    "    '[4]number': 'number_of_genotypes',\n",
    "    '[5]fraction': 'fraction_of_genotypes',\n",
    "    '[6]number': 'number_of_sites',\n",
    "    '[7]fraction': 'fraction_of_sites'\n",
    "}"
   ]
  },
  {
   "cell_type": "code",
   "execution_count": 7,
   "metadata": {},
   "outputs": [
    {
     "name": "stdout",
     "output_type": "stream",
     "text": [
      "parse table done\n"
     ]
    }
   ],
   "source": [
    "# Unzipping the files again\n",
    "os.makedirs(unzip_dir, exist_ok=True)\n",
    "with zipfile.ZipFile(zip_path, 'r') as zip_ref:\n",
    "    zip_ref.extractall(unzip_dir)\n",
    "\n",
    "# List of unzipped files\n",
    "unzipped_files = os.listdir(unzip_dir)\n",
    "\n",
    "# Extracting QUAL and DP tables from the stats files again\n",
    "qual_data = {}\n",
    "dp_data = {}\n",
    "\n",
    "for file_name in unzipped_files:\n",
    "    individual = file_name.split('_')[0]\n",
    "    stats_path = os.path.join(unzip_dir, file_name)\n",
    "    \n",
    "    qual_section = []\n",
    "    dp_section = []\n",
    "    in_qual = False\n",
    "    in_dp = False\n",
    "    \n",
    "    with open(stats_path, 'r') as f:\n",
    "        for line in f:\n",
    "            cols = line.strip().split(\"\\t\")\n",
    "            if cols[0].startswith(\"# DP\"):\n",
    "                in_qual = False\n",
    "                in_dp = True\n",
    "                dp_section.append(line.strip())\n",
    "                continue\n",
    "            if in_dp:\n",
    "                dp_section.append(line.strip())\n",
    "\n",
    "    dp_data[individual] = parse_table_new(dp_section, header_format=\"DP\")\n",
    "\n",
    "print(\"parse table done\")"
   ]
  },
  {
   "cell_type": "code",
   "execution_count": 10,
   "metadata": {},
   "outputs": [
    {
     "name": "stdout",
     "output_type": "stream",
     "text": [
      "regenerate DataFrame done\n",
      "calculate done\n",
      "{'T5': 48.75800554480932, 'F23': 43.226838270400314, 'FM020': 44.18137783277203, 'I4': 32.79694664347636}\n"
     ]
    }
   ],
   "source": [
    "# Convert the extracted data to Pandas DataFrames again\n",
    "dp_dfs = {}\n",
    "\n",
    "for individual, data in dp_data.items():\n",
    "    dp_df = pd.DataFrame(data)\n",
    "    dp_df.rename(columns=dp_columns, inplace=True)\n",
    "    dp_df.drop(columns=[''], inplace=True)\n",
    "    dp_df = dp_df.apply(pd.to_numeric, errors='ignore')\n",
    "    dp_dfs[individual] = dp_df\n",
    "\n",
    "print(\"regenerate DataFrame done\")\n",
    "\n",
    "# Function to calculate the average depth for each sample\n",
    "def calculate_average_depth(data):\n",
    "    avg_depths = {}\n",
    "    for sample, df in data.items():\n",
    "        # Convert the 'bin' to numeric, treating '>500' as 500\n",
    "        df['bin_numeric'] = pd.to_numeric(df['bin'], errors='coerce').fillna(500)\n",
    "        avg_depth = np.average(df['bin_numeric'], weights=df['number_of_sites'])\n",
    "        avg_depths[sample] = avg_depth\n",
    "    return avg_depths\n",
    "\n",
    "avg_depths = calculate_average_depth(dp_dfs)\n",
    "print(\"calculate done\")\n",
    "print(avg_depths)\n"
   ]
  },
  {
   "cell_type": "code",
   "execution_count": null,
   "metadata": {},
   "outputs": [],
   "source": []
  }
 ],
 "metadata": {
  "kernelspec": {
   "display_name": "Python 3 (ipykernel)",
   "language": "python",
   "name": "python3"
  },
  "language_info": {
   "codemirror_mode": {
    "name": "ipython",
    "version": 3
   },
   "file_extension": ".py",
   "mimetype": "text/x-python",
   "name": "python",
   "nbconvert_exporter": "python",
   "pygments_lexer": "ipython3",
   "version": "3.10.12"
  }
 },
 "nbformat": 4,
 "nbformat_minor": 4
}
