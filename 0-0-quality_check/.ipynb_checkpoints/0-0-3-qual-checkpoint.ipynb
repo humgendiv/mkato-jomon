{
 "cells": [
  {
   "cell_type": "code",
   "execution_count": null,
   "metadata": {},
   "outputs": [],
   "source": [
    "# The user has uploaded another file for similar processing. Let's apply the same approach to extract the data.\n",
    "file_path_t5 = '/home/mkato/hdd_data/data/0-0-raw_vcf/stats/T5_stats.txt'\n",
    "\n",
    "quality_values_t5 = []\n",
    "snp_counts_t5 = []\n",
    "\n",
    "with open(file_path_t5, 'r') as file:\n",
    "    lines = file.readlines()\n",
    "    # Extracting data from line 43 onwards\n",
    "    for line in lines[42:]:  # Line numbers in Python are zero-indexed\n",
    "        if line.startswith(\"QUAL\"):\n",
    "            parts = line.split()\n",
    "            try:\n",
    "                # Extracting the Quality and number of SNPs\n",
    "                quality_t5 = float(parts[2])\n",
    "                snp_count_t5 = int(parts[3])\n",
    "                quality_values_t5.append(quality_t5)\n",
    "                snp_counts_t5.append(snp_count_t5)\n",
    "            except ValueError:\n",
    "                # Skip lines with non-numeric values\n",
    "                continue\n",
    "\n",
    "# Now plotting the histogram for Quality values and a line plot for number of SNPs for T5\n",
    "plt.figure(figsize=(12, 6))\n",
    "\n",
    "# Histogram for Quality values\n",
    "plt.subplot(1, 2, 1)\n",
    "plt.hist(quality_values_t5, bins=50, color='blue', edgecolor='black')\n",
    "plt.title('Histogram of Quality Values for T5')\n",
    "plt.xlabel('Quality')\n",
    "plt.ylabel('Frequency')\n",
    "plt.grid(True)\n",
    "\n",
    "# Line plot for number of SNPs\n",
    "plt.subplot(1, 2, 2)\n",
    "plt.plot(quality_values_t5, snp_counts_t5, marker='o', color='purple', linestyle='-')\n",
    "plt.title('Quality vs. Number of SNPs for T5')\n",
    "plt.xlabel('Quality')\n",
    "plt.ylabel('Number of SNPs')\n",
    "plt.grid(True)\n",
    "\n",
    "plt.tight_layout()\n",
    "plt.show()\n"
   ]
  }
 ],
 "metadata": {
  "language_info": {
   "name": "python"
  }
 },
 "nbformat": 4,
 "nbformat_minor": 2
}
